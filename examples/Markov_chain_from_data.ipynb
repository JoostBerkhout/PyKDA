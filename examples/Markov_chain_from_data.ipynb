{
 "cells": [
  {
   "cell_type": "markdown",
   "source": [
    "# Markov chain from data\n",
    "\n",
    "In this notebook we will load some dummy data and decompose it using the Kemeny Decomposition Algorithm (KDA)."
   ],
   "metadata": {
    "collapsed": false,
    "id": "93132608fe7601a0"
   },
   "id": "93132608fe7601a0"
  },
  {
   "cell_type": "markdown",
   "source": [
    "## Installing `pykda`\n",
    "\n",
    "Running the following command installs `pykda` in Google Colab (note that this may take a while as it also installs some other packages). If you run this notebook in your local environment which already has `pykda` installed, you can skip this step."
   ],
   "metadata": {
    "id": "XeTM7WrDwhR9"
   },
   "id": "XeTM7WrDwhR9"
  },
  {
   "cell_type": "code",
   "source": [
    "!pip install pykda"
   ],
   "metadata": {
    "colab": {
     "base_uri": "https://localhost:8080/"
    },
    "id": "wIW9BfnkwvRP",
    "executionInfo": {
     "status": "ok",
     "timestamp": 1710679690956,
     "user_tz": -60,
     "elapsed": 27242,
     "user": {
      "displayName": "Joost",
      "userId": "07142214971843623590"
     }
    },
    "outputId": "705bf67c-2c5e-4ded-feb8-fb4354929efa"
   },
   "id": "wIW9BfnkwvRP",
   "execution_count": 1,
   "outputs": [
    {
     "output_type": "stream",
     "name": "stdout",
     "text": [
      "Collecting pykda\n",
      "  Downloading pykda-0.9.1-py3-none-any.whl (74 kB)\n",
      "\u001B[2K     \u001B[90m━━━━━━━━━━━━━━━━━━━━━━━━━━━━━━━━━━━━━━━━\u001B[0m \u001B[32m74.8/74.8 kB\u001B[0m \u001B[31m949.8 kB/s\u001B[0m eta \u001B[36m0:00:00\u001B[0m\n",
      "\u001B[?25hCollecting numpy<2.0.0,>=1.26.4 (from pykda)\n",
      "  Downloading numpy-1.26.4-cp310-cp310-manylinux_2_17_x86_64.manylinux2014_x86_64.whl (18.2 MB)\n",
      "\u001B[2K     \u001B[90m━━━━━━━━━━━━━━━━━━━━━━━━━━━━━━━━━━━━━━━━\u001B[0m \u001B[32m18.2/18.2 MB\u001B[0m \u001B[31m21.7 MB/s\u001B[0m eta \u001B[36m0:00:00\u001B[0m\n",
      "\u001B[?25hCollecting pyvis<0.4.0,>=0.3.2 (from pykda)\n",
      "  Downloading pyvis-0.3.2-py3-none-any.whl (756 kB)\n",
      "\u001B[2K     \u001B[90m━━━━━━━━━━━━━━━━━━━━━━━━━━━━━━━━━━━━━━━━\u001B[0m \u001B[32m756.0/756.0 kB\u001B[0m \u001B[31m19.1 MB/s\u001B[0m eta \u001B[36m0:00:00\u001B[0m\n",
      "\u001B[?25hCollecting tarjan<0.3.0,>=0.2.4 (from pykda)\n",
      "  Downloading tarjan-0.2.4.tar.gz (7.3 kB)\n",
      "  Preparing metadata (setup.py) ... \u001B[?25l\u001B[?25hdone\n",
      "Requirement already satisfied: ipython>=5.3.0 in /usr/local/lib/python3.10/dist-packages (from pyvis<0.4.0,>=0.3.2->pykda) (7.34.0)\n",
      "Requirement already satisfied: jinja2>=2.9.6 in /usr/local/lib/python3.10/dist-packages (from pyvis<0.4.0,>=0.3.2->pykda) (3.1.3)\n",
      "Requirement already satisfied: jsonpickle>=1.4.1 in /usr/local/lib/python3.10/dist-packages (from pyvis<0.4.0,>=0.3.2->pykda) (3.0.3)\n",
      "Requirement already satisfied: networkx>=1.11 in /usr/local/lib/python3.10/dist-packages (from pyvis<0.4.0,>=0.3.2->pykda) (3.2.1)\n",
      "Requirement already satisfied: setuptools>=18.5 in /usr/local/lib/python3.10/dist-packages (from ipython>=5.3.0->pyvis<0.4.0,>=0.3.2->pykda) (67.7.2)\n",
      "Collecting jedi>=0.16 (from ipython>=5.3.0->pyvis<0.4.0,>=0.3.2->pykda)\n",
      "  Downloading jedi-0.19.1-py2.py3-none-any.whl (1.6 MB)\n",
      "\u001B[2K     \u001B[90m━━━━━━━━━━━━━━━━━━━━━━━━━━━━━━━━━━━━━━━━\u001B[0m \u001B[32m1.6/1.6 MB\u001B[0m \u001B[31m42.0 MB/s\u001B[0m eta \u001B[36m0:00:00\u001B[0m\n",
      "\u001B[?25hRequirement already satisfied: decorator in /usr/local/lib/python3.10/dist-packages (from ipython>=5.3.0->pyvis<0.4.0,>=0.3.2->pykda) (4.4.2)\n",
      "Requirement already satisfied: pickleshare in /usr/local/lib/python3.10/dist-packages (from ipython>=5.3.0->pyvis<0.4.0,>=0.3.2->pykda) (0.7.5)\n",
      "Requirement already satisfied: traitlets>=4.2 in /usr/local/lib/python3.10/dist-packages (from ipython>=5.3.0->pyvis<0.4.0,>=0.3.2->pykda) (5.7.1)\n",
      "Requirement already satisfied: prompt-toolkit!=3.0.0,!=3.0.1,<3.1.0,>=2.0.0 in /usr/local/lib/python3.10/dist-packages (from ipython>=5.3.0->pyvis<0.4.0,>=0.3.2->pykda) (3.0.43)\n",
      "Requirement already satisfied: pygments in /usr/local/lib/python3.10/dist-packages (from ipython>=5.3.0->pyvis<0.4.0,>=0.3.2->pykda) (2.16.1)\n",
      "Requirement already satisfied: backcall in /usr/local/lib/python3.10/dist-packages (from ipython>=5.3.0->pyvis<0.4.0,>=0.3.2->pykda) (0.2.0)\n",
      "Requirement already satisfied: matplotlib-inline in /usr/local/lib/python3.10/dist-packages (from ipython>=5.3.0->pyvis<0.4.0,>=0.3.2->pykda) (0.1.6)\n",
      "Requirement already satisfied: pexpect>4.3 in /usr/local/lib/python3.10/dist-packages (from ipython>=5.3.0->pyvis<0.4.0,>=0.3.2->pykda) (4.9.0)\n",
      "Requirement already satisfied: MarkupSafe>=2.0 in /usr/local/lib/python3.10/dist-packages (from jinja2>=2.9.6->pyvis<0.4.0,>=0.3.2->pykda) (2.1.5)\n",
      "Requirement already satisfied: parso<0.9.0,>=0.8.3 in /usr/local/lib/python3.10/dist-packages (from jedi>=0.16->ipython>=5.3.0->pyvis<0.4.0,>=0.3.2->pykda) (0.8.3)\n",
      "Requirement already satisfied: ptyprocess>=0.5 in /usr/local/lib/python3.10/dist-packages (from pexpect>4.3->ipython>=5.3.0->pyvis<0.4.0,>=0.3.2->pykda) (0.7.0)\n",
      "Requirement already satisfied: wcwidth in /usr/local/lib/python3.10/dist-packages (from prompt-toolkit!=3.0.0,!=3.0.1,<3.1.0,>=2.0.0->ipython>=5.3.0->pyvis<0.4.0,>=0.3.2->pykda) (0.2.13)\n",
      "Building wheels for collected packages: tarjan\n",
      "  Building wheel for tarjan (setup.py) ... \u001B[?25l\u001B[?25hdone\n",
      "  Created wheel for tarjan: filename=tarjan-0.2.4-py3-none-any.whl size=7974 sha256=75b28fd48c61f65738df8be0cf94a9faf69c42a5e80d4077a210eb61f4e91e6f\n",
      "  Stored in directory: /root/.cache/pip/wheels/5e/43/39/663420cf5f9f64699d1889da5e52f2b26b33dd603e53120a8a\n",
      "Successfully built tarjan\n",
      "Installing collected packages: tarjan, numpy, jedi, pyvis, pykda\n",
      "  Attempting uninstall: numpy\n",
      "    Found existing installation: numpy 1.25.2\n",
      "    Uninstalling numpy-1.25.2:\n",
      "      Successfully uninstalled numpy-1.25.2\n",
      "Successfully installed jedi-0.19.1 numpy-1.26.4 pykda-0.9.1 pyvis-0.3.2 tarjan-0.2.4\n"
     ]
    }
   ]
  },
  {
   "cell_type": "markdown",
   "source": [
    "## Load data as a Markov chain\n",
    "First let us load some dummy data that consists of 4 data points (each row consists of a data point)."
   ],
   "metadata": {
    "id": "gjCW-FcuwhwP"
   },
   "id": "gjCW-FcuwhwP"
  },
  {
   "cell_type": "code",
   "source": [
    "import numpy as np\n",
    "\n",
    "data = np.array(\n",
    "    [\n",
    "        [0, 0],\n",
    "        [0.2, .1],\n",
    "        [-0.1, .3],\n",
    "        [1.1, 1.3],\n",
    "        [1.2, 0.9],                    \n",
    "        ]\n",
    "    )"
   ],
   "metadata": {
    "colab": {
     "base_uri": "https://localhost:8080/",
     "height": 651
    },
    "id": "3297d56e384fb2ae",
    "executionInfo": {
     "status": "ok",
     "timestamp": 1710679705940,
     "user_tz": -60,
     "elapsed": 1186,
     "user": {
      "displayName": "Joost",
      "userId": "07142214971843623590"
     }
    },
    "outputId": "7be08b88-99ec-4b9f-ffb6-d21ee817ed66",
    "ExecuteTime": {
     "end_time": "2024-07-12T07:28:35.867086Z",
     "start_time": "2024-07-12T07:28:35.859818Z"
    }
   },
   "id": "3297d56e384fb2ae",
   "outputs": [],
   "execution_count": 11
  },
  {
   "cell_type": "markdown",
   "source": "We can calculate the transition matrix from the data using the Gaussian similarity matrix that calculates the similarity between two data points as a Gaussian function of the Euclidean distance between them. The Markov chain transition matrix is then calculated as the row-normalized similarity matrix.",
   "metadata": {
    "collapsed": false,
    "id": "366d1173ffc25d02"
   },
   "id": "366d1173ffc25d02"
  },
  {
   "cell_type": "code",
   "source": [
    "from pykda.Markov_chain import MarkovChain\n",
    "from pykda.loaders import load_from_data\n",
    "\n",
    "MC = MarkovChain(load_from_data(data))\n",
    "print('Markov chain information:')\n",
    "print(MC)\n",
    "print('Transition matrix = \\n', MC.P)"
   ],
   "metadata": {
    "id": "99b90c395f0a9393",
    "outputId": "effd2017-ecdc-4954-a379-db4ae3d2d3fe",
    "ExecuteTime": {
     "end_time": "2024-07-12T07:28:44.439375Z",
     "start_time": "2024-07-12T07:28:44.432895Z"
    }
   },
   "id": "99b90c395f0a9393",
   "outputs": [
    {
     "name": "stdout",
     "output_type": "stream",
     "text": [
      "Markov chain information:\n",
      "MC with 5 states.\n",
      "Ergodic classes: [[4, 3, 2, 1, 0]].\n",
      "Transient classes: [].\n",
      "Transition matrix = \n",
      " [[0.35045276 0.32626018 0.30373767 0.00553141 0.01401799]\n",
      " [0.32135699 0.34518599 0.28660455 0.01380733 0.03304514]\n",
      " [0.31168211 0.29858819 0.35961906 0.01096101 0.01914965]\n",
      " [0.00843874 0.02138592 0.01629594 0.53465247 0.41922693]\n",
      " [0.02027258 0.04851847 0.026988   0.3974022  0.50681875]]\n",
      "Transition matrix = \n",
      " [[ 4.33672204  4.02307089  4.58158357 37.9037732  33.21039846]\n",
      " [ 4.83323392  4.27154779  5.01717769 37.03506039 32.33712179]\n",
      " [ 4.6522367   4.27766779  4.45015156 37.55569345 32.89548394]\n",
      " [18.31062193 16.6317461  17.89188906  6.61612474  5.38925362]\n",
      " [17.51229809 15.82885839 17.12673044  9.28430452  6.27169281]]\n"
     ]
    }
   ],
   "execution_count": 13
  },
  {
   "metadata": {},
   "cell_type": "markdown",
   "source": "By looking at the mean first passage matrix in the following, we already see that there is a natural decomposition in the Markov chain corresponding to the first 3 data points and the last 2 data points.",
   "id": "90d07bc4a23b7f62"
  },
  {
   "metadata": {
    "ExecuteTime": {
     "end_time": "2024-07-12T07:30:04.045997Z",
     "start_time": "2024-07-12T07:30:04.033192Z"
    }
   },
   "cell_type": "code",
   "source": "print(MC.mean_first_passage_matrix)\n",
   "id": "3484f42c1018c8a7",
   "outputs": [
    {
     "name": "stdout",
     "output_type": "stream",
     "text": [
      "[[ 4.33672204  4.02307089  4.58158357 37.9037732  33.21039846]\n",
      " [ 4.83323392  4.27154779  5.01717769 37.03506039 32.33712179]\n",
      " [ 4.6522367   4.27766779  4.45015156 37.55569345 32.89548394]\n",
      " [18.31062193 16.6317461  17.89188906  6.61612474  5.38925362]\n",
      " [17.51229809 15.82885839 17.12673044  9.28430452  6.27169281]]\n"
     ]
    }
   ],
   "execution_count": 14
  },
  {
   "cell_type": "markdown",
   "source": [
    "## Decomposing the Markov chain\n",
    "\n",
    "We now apply the Kemeny decomposition algorithm to decompose the Markov chain. We will remove all edges with negative Kemeny constant derivatives at once (in their notation, we use KDA(P, CO_A_2(3), CO_B_1(1), FALSE) where P is the above transition matrix). This identifies the natural decomposition of the Markov chain into two components by looking at the weakly connected components of the resulting Markov chain."
   ],
   "metadata": {
    "collapsed": false,
    "id": "229671f41fb4749"
   },
   "id": "229671f41fb4749"
  },
  {
   "cell_type": "code",
   "source": [
    "from pykda.KDA import KDA\n",
    "from IPython.display import HTML\n",
    "\n",
    "kda = KDA(original_MC=MC, CO_A=\"CO_A_1(1)\", CO_B=\"CO_B_3(0)\", symmetric_cut=False)\n",
    "kda.run()\n",
    "name = 'data_example_KDA_A1_1_B3_0'\n",
    "kda.plot(file_name=name, notebook=False)\n",
    "HTML(name + '.html')\n",
    "print('The weakly connected components after KDA are: ', kda.MC.weakly_connected_components)"
   ],
   "metadata": {
    "id": "e309be4c2b902566",
    "outputId": "b0c71941-d81c-4cf9-a315-145e95d749d1",
    "colab": {
     "base_uri": "https://localhost:8080/",
     "height": 651
    },
    "executionInfo": {
     "status": "ok",
     "timestamp": 1710679817563,
     "user_tz": -60,
     "elapsed": 1018,
     "user": {
      "displayName": "Joost",
      "userId": "07142214971843623590"
     }
    },
    "ExecuteTime": {
     "end_time": "2024-07-12T07:33:56.159729Z",
     "start_time": "2024-07-12T07:33:56.062284Z"
    }
   },
   "id": "e309be4c2b902566",
   "outputs": [
    {
     "name": "stdout",
     "output_type": "stream",
     "text": [
      "data_example_KDA_A1_1_B3_0.html\n",
      "The weakly connected components after KDA are:  [[2, 1, 0], [4, 3]]\n"
     ]
    }
   ],
   "execution_count": 20
  },
  {
   "metadata": {},
   "cell_type": "markdown",
   "source": [
    "## Other ways of normalizing the Gaussian similarity matrix\n",
    "\n",
    "There are other ways of normalizing the Gaussian similarity matrix. For example, we can first ensure all rows sums are equal by adding (stronger) self-loops. Alternatively, we can add an extra node/state to ensure that the stationary distribution of the Markov chain after the normalization is proportional to the eigenvector centrality of the Gaussian similarity matrix (of the original nodes). Both are illustrates in the following, respectively."
   ],
   "id": "e842569d76454f4c"
  },
  {
   "metadata": {
    "ExecuteTime": {
     "end_time": "2024-07-12T07:42:55.106680Z",
     "start_time": "2024-07-12T07:42:55.094631Z"
    }
   },
   "cell_type": "code",
   "source": [
    "from pykda.normalizers import *\n",
    "from pykda.utilities import eigenvec_centrality, Gaussian_similarity\n",
    "\n",
    "MC_self_loop = MarkovChain(load_from_data(data, normalization_with_self_loops))\n",
    "print('Transition matrix by adding self-loops:')\n",
    "print(MC_self_loop.P.round(3))\n",
    "MC_eig_vec_centr = MarkovChain(load_from_data(data, normalization_same_eigenvec_centr))\n",
    "print('Transition matrix with same eigenvector centrality:')\n",
    "print(MC_eig_vec_centr.P.round(3))\n",
    " "
   ],
   "id": "c51df81a6c3973e5",
   "outputs": [
    {
     "name": "stdout",
     "output_type": "stream",
     "text": [
      "Transition matrix by adding self-loops:\n",
      "[[0.36  0.321 0.299 0.005 0.014]\n",
      " [0.321 0.345 0.287 0.014 0.033]\n",
      " [0.299 0.287 0.385 0.011 0.018]\n",
      " [0.005 0.014 0.011 0.7   0.271]\n",
      " [0.014 0.033 0.018 0.271 0.664]]\n",
      "Transition matrix with same eigenvector centrality:\n",
      "[[0.    0.31  0.307 0.298 0.037 0.049]\n",
      " [0.015 0.345 0.321 0.299 0.005 0.014]\n",
      " [0.    0.321 0.345 0.287 0.014 0.033]\n",
      " [0.04  0.299 0.287 0.345 0.011 0.018]\n",
      " [0.354 0.005 0.014 0.011 0.345 0.271]\n",
      " [0.319 0.014 0.033 0.018 0.271 0.345]]\n"
     ]
    }
   ],
   "execution_count": 31
  },
  {
   "metadata": {},
   "cell_type": "markdown",
   "source": "Let us check that the stationary distribution of the (last) Markov chain after the normalization is proportional to the eigenvector centrality of the Gaussian similarity matrix (of the original nodes).",
   "id": "1a11af11ed00a0f5"
  },
  {
   "metadata": {
    "ExecuteTime": {
     "end_time": "2024-07-12T07:42:00.740410Z",
     "start_time": "2024-07-12T07:42:00.734410Z"
    }
   },
   "cell_type": "code",
   "source": [
    "print('Stationary distribution of the Markov chain with same eigenvector centrality:')\n",
    "stat_distr_orig_nodes = MC_eig_vec_centr.stationary_distribution[1:]\n",
    "print(stat_distr_orig_nodes / sum(stat_distr_orig_nodes))\n",
    "print('Eigenvector centrality of the Gaussian similarity matrix:')\n",
    "eig_vec = eigenvec_centrality(Gaussian_similarity(data))[0]\n",
    "print(eig_vec / sum(eig_vec))"
   ],
   "id": "3ba046bd591acb13",
   "outputs": [
    {
     "name": "stdout",
     "output_type": "stream",
     "text": [
      "Stationary distribution of the Markov chain with same eigenvector centrality:\n",
      "[[0.30951835]\n",
      " [0.3068301 ]\n",
      " [0.2982355 ]\n",
      " [0.0365545 ]\n",
      " [0.04886155]]\n",
      "Eigenvector centrality of the Gaussian similarity matrix:\n",
      "[[0.30951835]\n",
      " [0.3068301 ]\n",
      " [0.2982355 ]\n",
      " [0.0365545 ]\n",
      " [0.04886155]]\n"
     ]
    }
   ],
   "execution_count": 30
  }
 ],
 "metadata": {
  "kernelspec": {
   "display_name": "Python 3",
   "language": "python",
   "name": "python3"
  },
  "language_info": {
   "codemirror_mode": {
    "name": "ipython",
    "version": 2
   },
   "file_extension": ".py",
   "mimetype": "text/x-python",
   "name": "python",
   "nbconvert_exporter": "python",
   "pygments_lexer": "ipython2",
   "version": "2.7.6"
  },
  "colab": {
   "provenance": []
  }
 },
 "nbformat": 4,
 "nbformat_minor": 5
}

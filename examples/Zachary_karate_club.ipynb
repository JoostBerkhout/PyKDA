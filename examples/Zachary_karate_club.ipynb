{
 "cells": [
  {
   "cell_type": "markdown",
   "source": [
    "# Zachary karate club example\n",
    "\n",
    "In this notebook we will load the Zachary karate club data (see Berkhout and Heidergott (2019)) and decompose it using the\n",
    "Kemeny Decomposition Algorithm (KDA).\n",
    "\n",
    "## Load the data\n",
    "First let us load the Zachary karate club data and plot it."
   ],
   "metadata": {
    "collapsed": false
   },
   "id": "93132608fe7601a0"
  },
  {
   "cell_type": "code",
   "outputs": [
    {
     "name": "stdout",
     "output_type": "stream",
     "text": [
      "The given matrix is not stochastic: trying to normalize it.\n",
      "results/Zacharys_karate_club.html\n"
     ]
    },
    {
     "data": {
      "text/plain": "<IPython.lib.display.IFrame at 0x217ae843370>",
      "text/html": "\n        <iframe\n            width=\"700\"\n            height=\"600\"\n            src=\"results/Zacharys_karate_club.html\"\n            frameborder=\"0\"\n            allowfullscreen\n            \n        ></iframe>\n        "
     },
     "execution_count": 1,
     "metadata": {},
     "output_type": "execute_result"
    }
   ],
   "source": [
    "from pykda.Markov_chain import MarkovChain\n",
    "from IPython.display import IFrame  # for plotting in Jupyter\n",
    "\n",
    "# init for the plots\n",
    "html_width = 700\n",
    "html_height = 600\n",
    "results_folder = 'results/'\n",
    "\n",
    "name = 'Zacharys_karate_club'\n",
    "MC = MarkovChain(name)  # load the pre-defined Courtois matrix\n",
    "MC.plot(file_name=results_folder + name)\n",
    "IFrame(results_folder + name + '.html', width=html_width, height=html_height)"
   ],
   "metadata": {
    "collapsed": false,
    "ExecuteTime": {
     "end_time": "2024-03-14T15:16:40.095859900Z",
     "start_time": "2024-03-14T15:16:39.149860800Z"
    }
   },
   "id": "3297d56e384fb2ae",
   "execution_count": 1
  },
  {
   "cell_type": "markdown",
   "source": [
    "We can get a summary of the Markov chain as follows."
   ],
   "metadata": {
    "collapsed": false
   },
   "id": "366d1173ffc25d02"
  },
  {
   "cell_type": "code",
   "outputs": [
    {
     "name": "stdout",
     "output_type": "stream",
     "text": [
      "MC with 34 states.\n",
      "Ergodic classes: [[11, 16, 10, 5, 6, 4, 21, 17, 19, 9, 26, 29, 28, 31, 27, 24, 25, 23, 22, 20, 18, 15, 14, 32, 30, 8, 33, 13, 12, 7, 3, 2, 1, 0]].\n",
      "Transient classes: [].\n"
     ]
    }
   ],
   "source": [
    "print(MC)"
   ],
   "metadata": {
    "collapsed": false,
    "ExecuteTime": {
     "end_time": "2024-03-14T15:17:52.020002400Z",
     "start_time": "2024-03-14T15:17:52.006003100Z"
    }
   },
   "id": "99b90c395f0a9393",
   "execution_count": 2
  },
  {
   "cell_type": "markdown",
   "source": [
    "## Decomposing the Markov chain\n",
    "\n",
    "We now apply the Kemeny decomposition algorithm to decompose the Markov chain. We will remove all edges with negative Kemeny constant derivatives. This gives us the following decomposition (which is in line with Fig. 4 from Berkhout and Heidergott (2019))."
   ],
   "metadata": {
    "collapsed": false
   },
   "id": "229671f41fb4749"
  },
  {
   "cell_type": "code",
   "outputs": [
    {
     "name": "stdout",
     "output_type": "stream",
     "text": [
      "The given matrix is not stochastic: trying to normalize it.\n",
      "results/Zachary_after_KDA_1_0.html\n"
     ]
    },
    {
     "data": {
      "text/plain": "<IPython.lib.display.IFrame at 0x217ae8425f0>",
      "text/html": "\n        <iframe\n            width=\"700\"\n            height=\"600\"\n            src=\"results/Zachary_after_KDA_1_0.html\"\n            frameborder=\"0\"\n            allowfullscreen\n            \n        ></iframe>\n        "
     },
     "execution_count": 3,
     "metadata": {},
     "output_type": "execute_result"
    }
   ],
   "source": [
    "from pykda.KDA import KDA\n",
    "\n",
    "kda = KDA(original_MC=MC, CO_A=\"CO_A_1(1)\", CO_B=\"CO_B_3(0)\", symmetric_cut=False)\n",
    "kda.run()\n",
    "kda.plot('results/Zachary_after_KDA_1_0')\n",
    "IFrame('results/Zachary_after_KDA_1_0.html', width=html_width, height=html_height)"
   ],
   "metadata": {
    "collapsed": false,
    "ExecuteTime": {
     "end_time": "2024-03-14T15:20:18.570724Z",
     "start_time": "2024-03-14T15:20:18.461726100Z"
    }
   },
   "id": "e309be4c2b902566",
   "execution_count": 3
  }
 ],
 "metadata": {
  "kernelspec": {
   "display_name": "Python 3",
   "language": "python",
   "name": "python3"
  },
  "language_info": {
   "codemirror_mode": {
    "name": "ipython",
    "version": 2
   },
   "file_extension": ".py",
   "mimetype": "text/x-python",
   "name": "python",
   "nbconvert_exporter": "python",
   "pygments_lexer": "ipython2",
   "version": "2.7.6"
  }
 },
 "nbformat": 4,
 "nbformat_minor": 5
}

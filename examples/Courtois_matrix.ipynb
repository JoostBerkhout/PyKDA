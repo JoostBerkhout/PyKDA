{
 "cells": [
  {
   "cell_type": "markdown",
   "id": "d3a3ae19ba31a315",
   "metadata": {
    "collapsed": false,
    "jupyter": {
     "outputs_hidden": false
    }
   },
   "source": [
    "# Courtois matrix example\n",
    "\n",
    "In this notebook we will load the Courtois matrix and decompose it using the\n",
    "Kemeny Decomposition Algorithm (KDA).\n",
    "\n",
    "## Loading the Courtois matrix\n",
    "First let us load in the Courtois matrix and plot it."
   ]
  },
  {
   "cell_type": "code",
   "execution_count": 1,
   "id": "initial_id",
   "metadata": {
    "ExecuteTime": {
     "end_time": "2024-03-14T16:52:21.068709300Z",
     "start_time": "2024-03-14T16:52:20.888679Z"
    }
   },
   "outputs": [
    {
     "name": "stdout",
     "output_type": "stream",
     "text": [
      "results/Courtois_matrix.html\n"
     ]
    },
    {
     "data": {
      "text/html": [
       "\n",
       "        <iframe\n",
       "            width=\"700\"\n",
       "            height=\"600\"\n",
       "            src=\"results/Courtois_matrix.html\"\n",
       "            frameborder=\"0\"\n",
       "            allowfullscreen\n",
       "            \n",
       "        ></iframe>\n",
       "        "
      ],
      "text/plain": [
       "<IPython.lib.display.IFrame at 0x2011119fd30>"
      ]
     },
     "execution_count": 1,
     "metadata": {},
     "output_type": "execute_result"
    }
   ],
   "source": [
    "from pykda.Markov_chain import MarkovChain\n",
    "from IPython.display import IFrame  # for plotting in Jupyter\n",
    "\n",
    "# init for the plots\n",
    "html_width = 700\n",
    "html_height = 600\n",
    "results_folder = 'results/'\n",
    "\n",
    "name = 'Courtois_matrix'\n",
    "MC = MarkovChain(name)  # load the pre-defined Courtois matrix\n",
    "MC.plot(file_name=results_folder + name)\n",
    "IFrame(results_folder + name + '.html', width=html_width, height=html_height)"
   ]
  },
  {
   "cell_type": "markdown",
   "id": "5dc5de230cf4c645",
   "metadata": {
    "collapsed": false,
    "jupyter": {
     "outputs_hidden": false
    }
   },
   "source": [
    "We can get a summary of the Markov chain as follows. It shows that the Courtois matrix has 1 ergodic class which contains all states."
   ]
  },
  {
   "cell_type": "code",
   "execution_count": 2,
   "id": "f725a4f067e8474f",
   "metadata": {
    "ExecuteTime": {
     "end_time": "2024-03-14T16:52:21.073673200Z",
     "start_time": "2024-03-14T16:52:21.065674500Z"
    },
    "collapsed": false,
    "jupyter": {
     "outputs_hidden": false
    }
   },
   "outputs": [
    {
     "name": "stdout",
     "output_type": "stream",
     "text": [
      "MC with 8 states.\n",
      "Ergodic classes: [[7, 5, 6, 3, 4, 1, 2, 0]].\n",
      "Transient classes: [].\n"
     ]
    }
   ],
   "source": [
    "print(MC)"
   ]
  },
  {
   "cell_type": "markdown",
   "id": "40f625a1418c452c",
   "metadata": {
    "collapsed": false,
    "jupyter": {
     "outputs_hidden": false
    }
   },
   "source": [
    "## Decomposing the Courtois matrix\n",
    "\n",
    "We will now decompose the Courtois matrix using the Kemeny Decomposition Algorithm (KDA). \n",
    "In particular, using KDA(P, CO_A_2(3), CO_B_1(1), FALSE), i.e., keep cutting till we have \n",
    " 3 ergodic classes and after each cut recalculate the Markov chain (for more details\n",
    " about the notation see Berkhout and Heidergott (2019)), we get the following decomposition:"
   ]
  },
  {
   "cell_type": "code",
   "execution_count": 3,
   "id": "f2d24a3d64b0ff59",
   "metadata": {
    "ExecuteTime": {
     "end_time": "2024-03-14T16:52:21.151673Z",
     "start_time": "2024-03-14T16:52:21.072672500Z"
    },
    "collapsed": false,
    "jupyter": {
     "outputs_hidden": false
    }
   },
   "outputs": [
    {
     "name": "stdout",
     "output_type": "stream",
     "text": [
      "The given matrix is not stochastic: trying to normalize it.\n",
      "The given matrix is not stochastic: trying to normalize it.\n",
      "The given matrix is not stochastic: trying to normalize it.\n",
      "The given matrix is not stochastic: trying to normalize it.\n",
      "The given matrix is not stochastic: trying to normalize it.\n",
      "The given matrix is not stochastic: trying to normalize it.\n",
      "The given matrix is not stochastic: trying to normalize it.\n",
      "The given matrix is not stochastic: trying to normalize it.\n",
      "The given matrix is not stochastic: trying to normalize it.\n",
      "The given matrix is not stochastic: trying to normalize it.\n",
      "The given matrix is not stochastic: trying to normalize it.\n",
      "The given matrix is not stochastic: trying to normalize it.\n",
      "The given matrix is not stochastic: trying to normalize it.\n",
      "The given matrix is not stochastic: trying to normalize it.\n",
      "The given matrix is not stochastic: trying to normalize it.\n",
      "The given matrix is not stochastic: trying to normalize it.\n",
      "The given matrix is not stochastic: trying to normalize it.\n",
      "The given matrix is not stochastic: trying to normalize it.\n",
      "The given matrix is not stochastic: trying to normalize it.\n",
      "The given matrix is not stochastic: trying to normalize it.\n",
      "results/Courtois_matrix_after_KDA.html\n"
     ]
    },
    {
     "data": {
      "text/html": [
       "\n",
       "        <iframe\n",
       "            width=\"700\"\n",
       "            height=\"600\"\n",
       "            src=\"results/Courtois_matrix_after_KDA.html\"\n",
       "            frameborder=\"0\"\n",
       "            allowfullscreen\n",
       "            \n",
       "        ></iframe>\n",
       "        "
      ],
      "text/plain": [
       "<IPython.lib.display.IFrame at 0x20130f55930>"
      ]
     },
     "execution_count": 3,
     "metadata": {},
     "output_type": "execute_result"
    }
   ],
   "source": [
    "from pykda.KDA import KDA\n",
    "\n",
    "kda = KDA(original_MC=MC, CO_A=\"CO_A_2(3)\", CO_B=\"CO_B_1(1)\", symmetric_cut=False)\n",
    "kda.run()\n",
    "kda.plot(file_name='results/Courtois_matrix_after_KDA')\n",
    "IFrame('results/Courtois_matrix_after_KDA.html', width=html_width, height=html_height)"
   ]
  },
  {
   "cell_type": "markdown",
   "id": "1645bb8e721eeba6",
   "metadata": {
    "collapsed": false,
    "jupyter": {
     "outputs_hidden": false
    }
   },
   "source": [
    "We can also plot a report of all the KDA progress steps as follows."
   ]
  },
  {
   "cell_type": "code",
   "execution_count": 4,
   "id": "e3b679b4327375a3",
   "metadata": {
    "ExecuteTime": {
     "end_time": "2024-03-14T16:52:21.167671200Z",
     "start_time": "2024-03-14T16:52:21.151673Z"
    },
    "collapsed": false,
    "jupyter": {
     "outputs_hidden": false
    }
   },
   "outputs": [
    {
     "name": "stdout",
     "output_type": "stream",
     "text": [
      "\n",
      "KDA report:\n",
      "===========\n",
      "\n",
      "KDA settings:\n",
      "- Condition A: CO_A_2(3) (continue till # ergodic classes is 3)\n",
      "- Condition B: CO_B_1(1) (continue till 1 edge(s) cut)\n",
      "- Symmetric cut: False\n",
      "\n",
      "Initial Markov chain (MC) is:\n",
      "MC with 8 states.\n",
      "Ergodic classes: [[7, 5, 6, 3, 4, 1, 2, 0]].\n",
      "Transient classes: [].\n",
      "\n",
      "KDA progress is:\n",
      "* Iteration 0:\n",
      "   - Edges cut: [None]\n",
      "   - Ergodic classes: [[7, 5, 6, 3, 4, 1, 2, 0]]\n",
      "   - Transient classes: []\n",
      "   - Strongly connected components: [[7, 5, 6, 3, 4, 1, 2, 0]]\n",
      "   - Weakly connected components: [[7, 6, 5, 4, 3, 2, 1, 0]]\n",
      "* Iteration 1:\n",
      "   - Edges cut: [(6, 2)]\n",
      "   - Ergodic classes: [[7, 5, 6, 3, 4, 1, 2, 0]]\n",
      "   - Transient classes: []\n",
      "   - Strongly connected components: [[7, 5, 6, 3, 4, 1, 2, 0]]\n",
      "   - Weakly connected components: [[7, 6, 5, 4, 3, 2, 1, 0]]\n",
      "* Iteration 2:\n",
      "   - Edges cut: [(6, 0)]\n",
      "   - Ergodic classes: [[7, 5, 6, 3, 4, 1, 2, 0]]\n",
      "   - Transient classes: []\n",
      "   - Strongly connected components: [[7, 5, 6, 3, 4, 1, 2, 0]]\n",
      "   - Weakly connected components: [[7, 6, 5, 4, 3, 2, 1, 0]]\n",
      "* Iteration 3:\n",
      "   - Edges cut: [(6, 3)]\n",
      "   - Ergodic classes: [[7, 5, 6, 3, 4, 1, 2, 0]]\n",
      "   - Transient classes: []\n",
      "   - Strongly connected components: [[7, 5, 6, 3, 4, 1, 2, 0]]\n",
      "   - Weakly connected components: [[7, 6, 5, 4, 3, 2, 1, 0]]\n",
      "* Iteration 4:\n",
      "   - Edges cut: [(3, 6)]\n",
      "   - Ergodic classes: [[7, 6, 5, 3, 4, 1, 2, 0]]\n",
      "   - Transient classes: []\n",
      "   - Strongly connected components: [[7, 6, 5, 3, 4, 1, 2, 0]]\n",
      "   - Weakly connected components: [[7, 6, 5, 4, 3, 2, 1, 0]]\n",
      "* Iteration 5:\n",
      "   - Edges cut: [(4, 5)]\n",
      "   - Ergodic classes: [[7, 6, 5, 3, 4, 1, 2, 0]]\n",
      "   - Transient classes: []\n",
      "   - Strongly connected components: [[7, 6, 5, 3, 4, 1, 2, 0]]\n",
      "   - Weakly connected components: [[7, 6, 5, 4, 3, 2, 1, 0]]\n",
      "* Iteration 6:\n",
      "   - Edges cut: [(5, 4)]\n",
      "   - Ergodic classes: [[7, 6, 5, 3, 4, 1, 2, 0]]\n",
      "   - Transient classes: []\n",
      "   - Strongly connected components: [[7, 6, 5, 3, 4, 1, 2, 0]]\n",
      "   - Weakly connected components: [[6, 5, 7, 4, 3, 2, 1, 0]]\n",
      "* Iteration 7:\n",
      "   - Edges cut: [(5, 1)]\n",
      "   - Ergodic classes: [[7, 6, 5, 3, 4, 1, 2, 0]]\n",
      "   - Transient classes: []\n",
      "   - Strongly connected components: [[7, 6, 5, 3, 4, 1, 2, 0]]\n",
      "   - Weakly connected components: [[6, 5, 7, 4, 3, 2, 1, 0]]\n",
      "* Iteration 8:\n",
      "   - Edges cut: [(7, 4)]\n",
      "   - Ergodic classes: [[7, 6, 5, 3, 4, 1, 2, 0]]\n",
      "   - Transient classes: []\n",
      "   - Strongly connected components: [[7, 6, 5, 3, 4, 1, 2, 0]]\n",
      "   - Weakly connected components: [[7, 5, 6, 4, 3, 2, 1, 0]]\n",
      "* Iteration 9:\n",
      "   - Edges cut: [(7, 1)]\n",
      "   - Ergodic classes: [[7, 6, 5]]\n",
      "   - Transient classes: [[3, 4, 1, 2, 0]]\n",
      "   - Strongly connected components: [[7, 6, 5], [3, 4, 1, 2, 0]]\n",
      "   - Weakly connected components: [[7, 5, 6, 4, 3, 2, 1, 0]]\n",
      "* Iteration 10:\n",
      "   - Edges cut: [(1, 5)]\n",
      "   - Ergodic classes: [[6, 5, 7]]\n",
      "   - Transient classes: [[3, 4, 1, 2, 0]]\n",
      "   - Strongly connected components: [[6, 5, 7], [3, 4, 1, 2, 0]]\n",
      "   - Weakly connected components: [[7, 5, 6, 4, 3, 2, 1, 0]]\n",
      "* Iteration 11:\n",
      "   - Edges cut: [(1, 7)]\n",
      "   - Ergodic classes: [[7, 5, 6]]\n",
      "   - Transient classes: [[3, 4, 1, 2, 0]]\n",
      "   - Strongly connected components: [[7, 5, 6], [3, 4, 1, 2, 0]]\n",
      "   - Weakly connected components: [[7, 5, 6, 4, 3, 2, 1, 0]]\n",
      "* Iteration 12:\n",
      "   - Edges cut: [(0, 7)]\n",
      "   - Ergodic classes: [[7, 5, 6]]\n",
      "   - Transient classes: [[3, 4, 1, 2, 0]]\n",
      "   - Strongly connected components: [[7, 5, 6], [3, 4, 1, 2, 0]]\n",
      "   - Weakly connected components: [[7, 5, 6, 4, 3, 2, 1, 0]]\n",
      "* Iteration 13:\n",
      "   - Edges cut: [(0, 5)]\n",
      "   - Ergodic classes: [[7, 5, 6]]\n",
      "   - Transient classes: [[3, 4, 1, 2, 0]]\n",
      "   - Strongly connected components: [[7, 5, 6], [3, 4, 1, 2, 0]]\n",
      "   - Weakly connected components: [[7, 5, 6, 4, 3, 2, 1, 0]]\n",
      "* Iteration 14:\n",
      "   - Edges cut: [(2, 6)]\n",
      "   - Ergodic classes: [[3, 4, 1, 2, 0], [7, 6, 5]]\n",
      "   - Transient classes: []\n",
      "   - Strongly connected components: [[3, 4, 1, 2, 0], [7, 6, 5]]\n",
      "   - Weakly connected components: [[4, 3, 2, 1, 0], [7, 6, 5]]\n",
      "* Iteration 15:\n",
      "   - Edges cut: [(3, 1)]\n",
      "   - Ergodic classes: [[3, 4, 1, 2, 0], [7, 6, 5]]\n",
      "   - Transient classes: []\n",
      "   - Strongly connected components: [[3, 4, 1, 2, 0], [7, 6, 5]]\n",
      "   - Weakly connected components: [[4, 3, 2, 1, 0], [7, 6, 5]]\n",
      "* Iteration 16:\n",
      "   - Edges cut: [(4, 2)]\n",
      "   - Ergodic classes: [[3, 4, 1, 2, 0], [7, 6, 5]]\n",
      "   - Transient classes: []\n",
      "   - Strongly connected components: [[3, 4, 1, 2, 0], [7, 6, 5]]\n",
      "   - Weakly connected components: [[4, 3, 2, 1, 0], [7, 6, 5]]\n",
      "* Iteration 17:\n",
      "   - Edges cut: [(4, 0)]\n",
      "   - Ergodic classes: [[3, 4], [7, 6, 5]]\n",
      "   - Transient classes: [[1, 2, 0]]\n",
      "   - Strongly connected components: [[3, 4], [1, 2, 0], [7, 6, 5]]\n",
      "   - Weakly connected components: [[4, 3, 2, 1, 0], [7, 6, 5]]\n",
      "* Iteration 18:\n",
      "   - Edges cut: [(1, 4)]\n",
      "   - Ergodic classes: [[4, 3], [7, 6, 5]]\n",
      "   - Transient classes: [[1, 2, 0]]\n",
      "   - Strongly connected components: [[4, 3], [1, 2, 0], [7, 6, 5]]\n",
      "   - Weakly connected components: [[4, 3, 2, 1, 0], [7, 6, 5]]\n",
      "* Iteration 19:\n",
      "   - Edges cut: [(0, 3)]\n",
      "   - Ergodic classes: [[4, 3], [7, 6, 5]]\n",
      "   - Transient classes: [[1, 2, 0]]\n",
      "   - Strongly connected components: [[4, 3], [1, 2, 0], [7, 6, 5]]\n",
      "   - Weakly connected components: [[4, 3, 2, 1, 0], [7, 6, 5]]\n",
      "* Iteration 20:\n",
      "   - Edges cut: [(2, 3)]\n",
      "   - Ergodic classes: [[1, 2, 0], [4, 3], [7, 6, 5]]\n",
      "   - Transient classes: []\n",
      "   - Strongly connected components: [[1, 2, 0], [4, 3], [7, 6, 5]]\n",
      "   - Weakly connected components: [[2, 1, 0], [4, 3], [7, 6, 5]]\n"
     ]
    }
   ],
   "source": [
    "kda.report()"
   ]
  },
  {
   "cell_type": "markdown",
   "id": "6c696a00aac41be8",
   "metadata": {
    "collapsed": false,
    "jupyter": {
     "outputs_hidden": false
    }
   },
   "source": [
    "We can also show the results after cutting 13 edges with KDA as follows (corresponding to Fig. 3a from Berkhout and Heidergott (2019))."
   ]
  },
  {
   "cell_type": "code",
   "execution_count": 5,
   "id": "60212a18aed96083",
   "metadata": {
    "ExecuteTime": {
     "end_time": "2024-03-14T16:52:21.269237500Z",
     "start_time": "2024-03-14T16:52:21.165672500Z"
    },
    "collapsed": false,
    "jupyter": {
     "outputs_hidden": false
    }
   },
   "outputs": [
    {
     "name": "stdout",
     "output_type": "stream",
     "text": [
      "MC with 8 states.\n",
      "Ergodic classes: [[7, 5, 6]].\n",
      "Transient classes: [[3, 4, 1, 2, 0]].\n",
      "results/Courtois_matrix_after_13_KDA_cuts.html\n"
     ]
    },
    {
     "data": {
      "text/html": [
       "\n",
       "        <iframe\n",
       "            width=\"700\"\n",
       "            height=\"600\"\n",
       "            src=\"results/Courtois_matrix_after_13_KDA_cuts.html\"\n",
       "            frameborder=\"0\"\n",
       "            allowfullscreen\n",
       "            \n",
       "        ></iframe>\n",
       "        "
      ],
      "text/plain": [
       "<IPython.lib.display.IFrame at 0x20130f61e10>"
      ]
     },
     "execution_count": 5,
     "metadata": {},
     "output_type": "execute_result"
    }
   ],
   "source": [
    "MC_after_13_cuts = kda.log['Markov chains'][13]\n",
    "print(MC_after_13_cuts)\n",
    "MC_after_13_cuts.plot(file_name='results/Courtois_matrix_after_13_KDA_cuts')\n",
    "IFrame('results/Courtois_matrix_after_13_KDA_cuts.html', width=html_width, height=html_height)"
   ]
  },
  {
   "cell_type": "markdown",
   "id": "ce2418a0772a7d72",
   "metadata": {
    "collapsed": false,
    "jupyter": {
     "outputs_hidden": false
    }
   },
   "source": [
    "Similarly, after 14 KDA cuts we get the following decomposition (corresponding to Fig. 3b from Berkhout and Heidergott (2019))."
   ]
  },
  {
   "cell_type": "code",
   "execution_count": 6,
   "id": "9d59f47f8dff3420",
   "metadata": {
    "ExecuteTime": {
     "end_time": "2024-03-14T16:52:21.338238600Z",
     "start_time": "2024-03-14T16:52:21.234237Z"
    },
    "collapsed": false,
    "jupyter": {
     "outputs_hidden": false
    }
   },
   "outputs": [
    {
     "name": "stdout",
     "output_type": "stream",
     "text": [
      "MC with 8 states.\n",
      "Ergodic classes: [[3, 4, 1, 2, 0], [7, 6, 5]].\n",
      "Transient classes: [].\n",
      "results/Courtois_matrix_after_14_KDA_cuts.html\n"
     ]
    },
    {
     "data": {
      "text/html": [
       "\n",
       "        <iframe\n",
       "            width=\"700\"\n",
       "            height=\"600\"\n",
       "            src=\"results/Courtois_matrix_after_14_KDA_cuts.html\"\n",
       "            frameborder=\"0\"\n",
       "            allowfullscreen\n",
       "            \n",
       "        ></iframe>\n",
       "        "
      ],
      "text/plain": [
       "<IPython.lib.display.IFrame at 0x20130f5de10>"
      ]
     },
     "execution_count": 6,
     "metadata": {},
     "output_type": "execute_result"
    }
   ],
   "source": [
    "MC_after_14_cuts = kda.log['Markov chains'][14]\n",
    "print(MC_after_14_cuts)\n",
    "MC_after_14_cuts.plot(file_name='results/Courtois_matrix_after_14_KDA_cuts')\n",
    "IFrame('results/Courtois_matrix_after_14_KDA_cuts.html', width=html_width, height=html_height)"
   ]
  },
  {
   "cell_type": "markdown",
   "id": "c312d14af3e2d44b",
   "metadata": {
    "collapsed": false,
    "jupyter": {
     "outputs_hidden": false
    }
   },
   "source": [
    "Alternatively, we can apply KDA by only cutting the edges which have negative Kemeny constant derivatives once. This gives the following decomposition. "
   ]
  },
  {
   "cell_type": "code",
   "execution_count": 7,
   "id": "aa29556e310ae12e",
   "metadata": {
    "ExecuteTime": {
     "end_time": "2024-03-14T16:52:21.458124200Z",
     "start_time": "2024-03-14T16:52:21.275244100Z"
    },
    "collapsed": false,
    "jupyter": {
     "outputs_hidden": false
    }
   },
   "outputs": [
    {
     "name": "stdout",
     "output_type": "stream",
     "text": [
      "The given matrix is not stochastic: trying to normalize it.\n",
      "results/Courtois_matrix_after_KDA_1_0.html\n"
     ]
    },
    {
     "data": {
      "text/html": [
       "\n",
       "        <iframe\n",
       "            width=\"700\"\n",
       "            height=\"600\"\n",
       "            src=\"results/Courtois_matrix_after_KDA_1_0.html\"\n",
       "            frameborder=\"0\"\n",
       "            allowfullscreen\n",
       "            \n",
       "        ></iframe>\n",
       "        "
      ],
      "text/plain": [
       "<IPython.lib.display.IFrame at 0x20130f460b0>"
      ]
     },
     "execution_count": 7,
     "metadata": {},
     "output_type": "execute_result"
    }
   ],
   "source": [
    "kda = KDA(original_MC=MC, CO_A=\"CO_A_1(1)\", CO_B=\"CO_B_3(0)\", symmetric_cut=False)\n",
    "kda.run()\n",
    "kda.plot('results/Courtois_matrix_after_KDA_1_0')\n",
    "IFrame('results/Courtois_matrix_after_KDA_1_0.html', width=html_width, height=html_height)"
   ]
  },
  {
   "cell_type": "markdown",
   "id": "ace262931c6fe6bc",
   "metadata": {
    "collapsed": false,
    "jupyter": {
     "outputs_hidden": false
    }
   },
   "source": [
    "It gives the same decomposition as the first KDA decomposition."
   ]
  }
 ],
 "metadata": {
  "kernelspec": {
   "display_name": "Python 3 (ipykernel)",
   "language": "python",
   "name": "python3"
  },
  "language_info": {
   "codemirror_mode": {
    "name": "ipython",
    "version": 3
   },
   "file_extension": ".py",
   "mimetype": "text/x-python",
   "name": "python",
   "nbconvert_exporter": "python",
   "pygments_lexer": "ipython3",
   "version": "3.10.10"
  }
 },
 "nbformat": 4,
 "nbformat_minor": 5
}

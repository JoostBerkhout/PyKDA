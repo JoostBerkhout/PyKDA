{
 "cells": [
  {
   "cell_type": "markdown",
   "id": "d3a3ae19ba31a315",
   "metadata": {
    "collapsed": false,
    "id": "d3a3ae19ba31a315"
   },
   "source": [
    "# Courtois matrix example\n",
    "\n",
    "In this notebook we will load the Courtois matrix and decompose it using the\n",
    "Kemeny Decomposition Algorithm (KDA) using `pykda`. The Courtois matrix is a classical nearly decomposable Markov chain, see [Berkhout and Heidergott (2019)](https://research.vu.nl/ws/portalfiles/portal/104470560/Analysis_of_Markov_influence_graphs.pdf) for more details."
   ]
  },
  {
   "cell_type": "markdown",
   "id": "GvDzWHZnizPN",
   "metadata": {
    "id": "GvDzWHZnizPN"
   },
   "source": [
    "## Installing `pykda`\n",
    "\n",
    "Running the following command installs PyKDA in Google Colab (note that this may take a while as it also installs some other packages). If you run this notebook in your local environment which already has `pykda` installed, you can skip this step."
   ]
  },
  {
   "cell_type": "code",
   "execution_count": null,
   "id": "V94GtvT704S3",
   "metadata": {
    "id": "V94GtvT704S3"
   },
   "source": [
    "!pip install pykda"
   ],
   "outputs": []
  },
  {
   "cell_type": "markdown",
   "id": "LwS7dcrV04rR",
   "metadata": {
    "id": "LwS7dcrV04rR"
   },
   "source": [
    "## Loading and exploring the Courtois matrix\n",
    "Let us load the Courtois matrix in a `MarkovChain` object and plot it. The Courtois matrix is a predefined Markov chain that is shipped with `pykda`."
   ]
  },
  {
   "cell_type": "code",
   "execution_count": 2,
   "id": "initial_id",
   "metadata": {
    "ExecuteTime": {
     "end_time": "2024-03-14T16:52:21.068709300Z",
     "start_time": "2024-03-14T16:52:20.888679Z"
    },
    "colab": {
     "base_uri": "https://localhost:8080/",
     "height": 651
    },
    "executionInfo": {
     "elapsed": 1817,
     "status": "ok",
     "timestamp": 1710678807445,
     "user": {
      "displayName": "Joost",
      "userId": "07142214971843623590"
     },
     "user_tz": -60
    },
    "id": "initial_id",
    "outputId": "584a776e-01dd-44cf-d60f-e4220ef59719"
   },
   "source": [
    "from pykda.Markov_chain import MarkovChain\n",
    "from IPython.display import HTML\n",
    "\n",
    "name = 'Courtois_matrix'\n",
    "MC = MarkovChain(name)  # load the pre-defined Courtois matrix\n",
    "MC.plot(file_name=name, notebook=True)\n",
    "HTML(name + '.html')  # plots it in Jupyter notebook"
   ],
   "outputs": []
  },
  {
   "cell_type": "markdown",
   "id": "5dc5de230cf4c645",
   "metadata": {
    "collapsed": false,
    "id": "5dc5de230cf4c645"
   },
   "source": [
    "The node sizes are determined on the basis of [Google's PageRank](https://en.wikipedia.org/wiki/PageRank) with a damping factor of 0.85. A larger node size, means larger node popularity according to the network dynamics. You can hoover over the edges to see the transition probabilities between nodes.\n",
    "\n",
    "We can get a summary of the Markov chain's structure as follows."
   ]
  },
  {
   "cell_type": "code",
   "execution_count": 3,
   "id": "f725a4f067e8474f",
   "metadata": {
    "ExecuteTime": {
     "end_time": "2024-03-14T16:52:21.073673200Z",
     "start_time": "2024-03-14T16:52:21.065674500Z"
    },
    "colab": {
     "base_uri": "https://localhost:8080/"
    },
    "executionInfo": {
     "elapsed": 387,
     "status": "ok",
     "timestamp": 1710678824464,
     "user": {
      "displayName": "Joost",
      "userId": "07142214971843623590"
     },
     "user_tz": -60
    },
    "id": "f725a4f067e8474f",
    "outputId": "1f6b41c0-76c9-4962-d86e-8afb540e0a97"
   },
   "source": [
    "print(MC)"
   ],
   "outputs": []
  },
  {
   "cell_type": "markdown",
   "id": "-ZCu5MBtkUEa",
   "metadata": {
    "id": "-ZCu5MBtkUEa"
   },
   "source": [
    " It shows that the Courtois matrix has 1 ergodic class consisting of all 8 states and no transient states.\n",
    "\n",
    " The following finds the stationary distribution of the Markov chain. It shows that a random walk stays in the long-run on average 27.78% of the time in node 6."
   ]
  },
  {
   "cell_type": "code",
   "execution_count": null,
   "id": "wQBB3mPCkkGQ",
   "metadata": {
    "colab": {
     "base_uri": "https://localhost:8080/"
    },
    "executionInfo": {
     "elapsed": 19,
     "status": "ok",
     "timestamp": 1710601336854,
     "user": {
      "displayName": "Joost",
      "userId": "07142214971843623590"
     },
     "user_tz": -60
    },
    "id": "wQBB3mPCkkGQ",
    "outputId": "f1cbc326-ed41-4f8d-d9b8-ecac4b87e7ee"
   },
   "source": [
    "MC.stationary_distribution.flatten()"
   ],
   "outputs": []
  },
  {
   "cell_type": "markdown",
   "id": "SzmT78IDmxue",
   "metadata": {
    "id": "SzmT78IDmxue"
   },
   "source": [
    "We can also find the mean and variance of the passage time of going from node 0 to node 2 as follows."
   ]
  },
  {
   "cell_type": "code",
   "execution_count": null,
   "id": "Mi4d8xYAm5b0",
   "metadata": {
    "colab": {
     "base_uri": "https://localhost:8080/"
    },
    "executionInfo": {
     "elapsed": 17,
     "status": "ok",
     "timestamp": 1710601336855,
     "user": {
      "displayName": "Joost",
      "userId": "07142214971843623590"
     },
     "user_tz": -60
    },
    "id": "Mi4d8xYAm5b0",
    "outputId": "9acef2f2-e07f-420f-c29c-6a98177a464b"
   },
   "source": [
    "print(MC.mean_first_passage_matrix[0, 2])\n",
    "print(MC.variance_first_passage_matrix[0, 2])"
   ],
   "outputs": []
  },
  {
   "cell_type": "markdown",
   "source": [
    "i.e., the expected number of transitions needed to go from node 0 to node 2 is 32.27 with a variance of 422235."
   ],
   "metadata": {
    "id": "Y7A4RIhHZ-tK"
   },
   "id": "Y7A4RIhHZ-tK"
  },
  {
   "cell_type": "markdown",
   "id": "40f625a1418c452c",
   "metadata": {
    "collapsed": false,
    "id": "40f625a1418c452c"
   },
   "source": [
    "## Decomposing the Courtois matrix using KDA\n",
    "\n",
    "We will now decompose the Courtois matrix using the Kemeny Decomposition Algorithm (KDA) from [Berkhout and Heidergott (2019)](https://research.vu.nl/ws/portalfiles/portal/104470560/Analysis_of_Markov_influence_graphs.pdf). We will keep cutting till we have 3 ergodic classes and after each cut we recalculate the Kemeny constant derivatives of the normalized Markov chain (in their notation, we use KDA(P, CO_A_2(3), CO_B_1(1), FALSE) where P is the Courtois matrix). This gives the following decomposition."
   ]
  },
  {
   "cell_type": "code",
   "execution_count": 4,
   "id": "f2d24a3d64b0ff59",
   "metadata": {
    "ExecuteTime": {
     "end_time": "2024-03-14T16:52:21.151673Z",
     "start_time": "2024-03-14T16:52:21.072672500Z"
    },
    "colab": {
     "base_uri": "https://localhost:8080/",
     "height": 651
    },
    "executionInfo": {
     "elapsed": 1573,
     "status": "ok",
     "timestamp": 1710679018785,
     "user": {
      "displayName": "Joost",
      "userId": "07142214971843623590"
     },
     "user_tz": -60
    },
    "id": "f2d24a3d64b0ff59",
    "outputId": "73c24fbe-328c-4e6c-9bb2-49dbebd7ba04"
   },
   "source": [
    "from pykda.KDA import KDA\n",
    "\n",
    "kda = KDA(original_MC=MC, CO_A=\"CO_A_2(3)\", CO_B=\"CO_B_1(1)\", symmetric_cut=False)\n",
    "kda.run()\n",
    "name = \"Courtois_matrix_after_KDA\"\n",
    "kda.plot(file_name=name, notebook=True)\n",
    "HTML(name + \".html\")"
   ],
   "outputs": []
  },
  {
   "cell_type": "markdown",
   "id": "1645bb8e721eeba6",
   "metadata": {
    "collapsed": false,
    "id": "1645bb8e721eeba6"
   },
   "source": [
    "We can also print a report of KDA's progress as follows."
   ]
  },
  {
   "cell_type": "code",
   "execution_count": 5,
   "id": "e3b679b4327375a3",
   "metadata": {
    "ExecuteTime": {
     "end_time": "2024-03-14T16:52:21.167671200Z",
     "start_time": "2024-03-14T16:52:21.151673Z"
    },
    "id": "e3b679b4327375a3",
    "colab": {
     "base_uri": "https://localhost:8080/"
    },
    "executionInfo": {
     "status": "ok",
     "timestamp": 1710679050245,
     "user_tz": -60,
     "elapsed": 380,
     "user": {
      "displayName": "Joost",
      "userId": "07142214971843623590"
     }
    },
    "outputId": "119df0db-f5df-4a30-e540-fa7fdd7139da"
   },
   "source": [
    "kda.report()"
   ],
   "outputs": []
  },
  {
   "cell_type": "markdown",
   "id": "6c696a00aac41be8",
   "metadata": {
    "collapsed": false,
    "id": "6c696a00aac41be8"
   },
   "source": [
    "We can also show the results after cutting 13 edges with KDA as follows (corresponding to Fig. 3a from [Berkhout and Heidergott (2019)](https://research.vu.nl/ws/portalfiles/portal/104470560/Analysis_of_Markov_influence_graphs.pdf))."
   ]
  },
  {
   "cell_type": "code",
   "execution_count": 6,
   "id": "60212a18aed96083",
   "metadata": {
    "ExecuteTime": {
     "end_time": "2024-03-14T16:52:21.269237500Z",
     "start_time": "2024-03-14T16:52:21.165672500Z"
    },
    "id": "60212a18aed96083",
    "colab": {
     "base_uri": "https://localhost:8080/",
     "height": 651
    },
    "executionInfo": {
     "status": "ok",
     "timestamp": 1710679156399,
     "user_tz": -60,
     "elapsed": 976,
     "user": {
      "displayName": "Joost",
      "userId": "07142214971843623590"
     }
    },
    "outputId": "59483e97-89ee-48cf-a152-1e6b4a960676"
   },
   "source": [
    "MC_after_13_cuts = kda.log['Markov chains'][13]\n",
    "name = \"Courtois_matrix_after_13_KDA_cuts\"\n",
    "MC_after_13_cuts.plot(file_name=name, notebook=True)\n",
    "HTML(name + '.html')"
   ],
   "outputs": []
  },
  {
   "cell_type": "markdown",
   "id": "ce2418a0772a7d72",
   "metadata": {
    "collapsed": false,
    "id": "ce2418a0772a7d72"
   },
   "source": [
    "Similarly, after 14 KDA cuts we get the following decomposition (corresponding to Fig. 3b from [Berkhout and Heidergott (2019)](https://research.vu.nl/ws/portalfiles/portal/104470560/Analysis_of_Markov_influence_graphs.pdf)). We can see that the Markov chain breaks into two ergodic classes."
   ]
  },
  {
   "cell_type": "code",
   "execution_count": 7,
   "id": "9d59f47f8dff3420",
   "metadata": {
    "ExecuteTime": {
     "end_time": "2024-03-14T16:52:21.338238600Z",
     "start_time": "2024-03-14T16:52:21.234237Z"
    },
    "id": "9d59f47f8dff3420",
    "colab": {
     "base_uri": "https://localhost:8080/",
     "height": 651
    },
    "executionInfo": {
     "status": "ok",
     "timestamp": 1710679166500,
     "user_tz": -60,
     "elapsed": 1055,
     "user": {
      "displayName": "Joost",
      "userId": "07142214971843623590"
     }
    },
    "outputId": "5c7de7e5-f0b8-4378-ab5b-5ac834f60a95"
   },
   "source": [
    "MC_after_14_cuts = kda.log['Markov chains'][14]\n",
    "name = \"Courtois_matrix_after_14_KDA_cuts\"\n",
    "MC_after_14_cuts.plot(file_name=name, notebook=True)\n",
    "HTML(name + '.html')"
   ],
   "outputs": []
  },
  {
   "cell_type": "markdown",
   "id": "c312d14af3e2d44b",
   "metadata": {
    "collapsed": false,
    "id": "c312d14af3e2d44b"
   },
   "source": [
    "Alternatively, we can choose to cut all edgeswith negative Kemeny constant derivatives at once, without recalculating the Kemeny constant derivatives after each cut (i.e., apply KDA(P, CO_A_1(1), CO_B_3(0), FALSE)). This gives the following decomposition (which is the same decomposition as found with KDA(P, CO_A_2(3), CO_B_1(1), FALSE) earlier)."
   ]
  },
  {
   "cell_type": "code",
   "execution_count": 12,
   "id": "aa29556e310ae12e",
   "metadata": {
    "ExecuteTime": {
     "end_time": "2024-03-14T16:52:21.458124200Z",
     "start_time": "2024-03-14T16:52:21.275244100Z"
    },
    "id": "aa29556e310ae12e",
    "colab": {
     "base_uri": "https://localhost:8080/",
     "height": 651
    },
    "executionInfo": {
     "status": "ok",
     "timestamp": 1710679529468,
     "user_tz": -60,
     "elapsed": 1089,
     "user": {
      "displayName": "Joost",
      "userId": "07142214971843623590"
     }
    },
    "outputId": "07307323-c5ff-4f0f-9a03-adb93d5d94b8"
   },
   "source": [
    "kda = KDA(original_MC=MC, CO_A=\"CO_A_1(1)\", CO_B=\"CO_B_3(0)\", symmetric_cut=False)\n",
    "kda.run()\n",
    "name = 'Courtois_matrix_after_KDA_1_0'\n",
    "kda.plot(file_name=name, notebook=True)\n",
    "HTML(name + '.html')"
   ],
   "outputs": []
  }
 ],
 "metadata": {
  "colab": {
   "provenance": []
  },
  "kernelspec": {
   "display_name": "Python 3 (ipykernel)",
   "language": "python",
   "name": "python3"
  },
  "language_info": {
   "codemirror_mode": {
    "name": "ipython",
    "version": 3
   },
   "file_extension": ".py",
   "mimetype": "text/x-python",
   "name": "python",
   "nbconvert_exporter": "python",
   "pygments_lexer": "ipython3",
   "version": "3.10.10"
  }
 },
 "nbformat": 4,
 "nbformat_minor": 5
}

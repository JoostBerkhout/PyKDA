{
 "cells": [
  {
   "cell_type": "markdown",
   "id": "d3a3ae19ba31a315",
   "metadata": {
    "collapsed": false,
    "id": "d3a3ae19ba31a315"
   },
   "source": [
    "# Land of Oz example\n",
    "\n",
    "In this notebook we will load the Land of Oz example from Kemeny and Snell to illustrate the Markov chain utilities in `pykda`."
   ]
  },
  {
   "cell_type": "markdown",
   "id": "GvDzWHZnizPN",
   "metadata": {
    "id": "GvDzWHZnizPN"
   },
   "source": [
    "## Installing `pykda`\n",
    "\n",
    "Running the following command installs `pykda` in Google Colab (note that this may take a while as it also installs some other packages). If you run this notebook in your local environment which already has `pykda` installed, you can skip this step."
   ]
  },
  {
   "cell_type": "code",
   "execution_count": null,
   "id": "V94GtvT704S3",
   "metadata": {
    "id": "V94GtvT704S3"
   },
   "source": [
    "!pip install pykda"
   ],
   "outputs": []
  },
  {
   "cell_type": "markdown",
   "id": "LwS7dcrV04rR",
   "metadata": {
    "id": "LwS7dcrV04rR"
   },
   "source": [
    "## Loading the matrix\n",
    "Let us load the ''land of Oz'' matrix in a `MarkovChain` object and plot it. The land of Oz matrix is a predefined Markov chain that is shipped with `pykda`."
   ]
  },
  {
   "cell_type": "code",
   "execution_count": 3,
   "id": "initial_id",
   "metadata": {
    "ExecuteTime": {
     "end_time": "2024-03-14T16:52:21.068709300Z",
     "start_time": "2024-03-14T16:52:20.888679Z"
    },
    "colab": {
     "base_uri": "https://localhost:8080/",
     "height": 651
    },
    "executionInfo": {
     "elapsed": 707,
     "status": "ok",
     "timestamp": 1710680339613,
     "user": {
      "displayName": "Joost",
      "userId": "07142214971843623590"
     },
     "user_tz": -60
    },
    "id": "initial_id",
    "outputId": "52c448a6-a7f7-4c90-84a0-ca5d830d45e7"
   },
   "source": [
    "from pykda.Markov_chain import MarkovChain\n",
    "from IPython.display import HTML\n",
    "\n",
    "name = 'land_of_Oz'\n",
    "MC = MarkovChain(name)  # load the pre-defined Courtois matrix\n",
    "MC.plot(file_name=name, notebook=True)\n",
    "HTML(name + '.html')  # plots it in Jupyter notebook"
   ],
   "outputs": []
  },
  {
   "cell_type": "markdown",
   "source": [
    "The node sizes are determined on the basis of [Google's PageRank](https://en.wikipedia.org/wiki/PageRank) with a damping factor of 0.85. A larger node size, means larger node popularity according to the network dynamics. You can hover over the edges to see the transition probabilities between nodes. The transition probabilities are stored in the transition matrix P:"
   ],
   "metadata": {
    "id": "wZ_MUMb8iDJY"
   },
   "id": "wZ_MUMb8iDJY"
  },
  {
   "cell_type": "code",
   "source": [
    "MC.P"
   ],
   "metadata": {
    "colab": {
     "base_uri": "https://localhost:8080/"
    },
    "id": "aGxp_qOiiEbu",
    "executionInfo": {
     "status": "ok",
     "timestamp": 1710681012435,
     "user_tz": -60,
     "elapsed": 236,
     "user": {
      "displayName": "Joost",
      "userId": "07142214971843623590"
     }
    },
    "outputId": "5deb56b4-d798-4ea2-c222-daba4193470e"
   },
   "id": "aGxp_qOiiEbu",
   "execution_count": 11,
   "outputs": []
  },
  {
   "cell_type": "markdown",
   "id": "5dc5de230cf4c645",
   "metadata": {
    "collapsed": false,
    "id": "5dc5de230cf4c645"
   },
   "source": [
    "\n",
    "\n",
    "Alternatively, one can load the matrix manually and (i) also specify the labels in the plot, and (ii) print more info when hovering over the node as follows."
   ]
  },
  {
   "cell_type": "code",
   "execution_count": 8,
   "id": "f725a4f067e8474f",
   "metadata": {
    "ExecuteTime": {
     "end_time": "2024-03-14T16:52:21.073673200Z",
     "start_time": "2024-03-14T16:52:21.065674500Z"
    },
    "colab": {
     "base_uri": "https://localhost:8080/",
     "height": 651
    },
    "executionInfo": {
     "elapsed": 690,
     "status": "ok",
     "timestamp": 1710680865766,
     "user": {
      "displayName": "Joost",
      "userId": "07142214971843623590"
     },
     "user_tz": -60
    },
    "id": "f725a4f067e8474f",
    "outputId": "c9a02940-503d-4088-e0c4-e74298eab120"
   },
   "source": [
    "MC = MarkovChain([[0.5, 0.25, 0.25], [0.5, 0, 0.5], [0.25, 0.25, 0.5]])\n",
    "hover_info = [f'Stationary distribution value = {x}' for x in MC.stationary_distribution.flatten()]\n",
    "name = 'A plot with more info'\n",
    "MC.plot(file_name=name, labels=['Node 1', 'Node 2', 'Node 3'], hover_text=hover_info, notebook=True)\n",
    "HTML(name + '.html')  # plots it in Jupyter notebook"
   ],
   "outputs": []
  },
  {
   "cell_type": "markdown",
   "id": "-ZCu5MBtkUEa",
   "metadata": {
    "id": "-ZCu5MBtkUEa"
   },
   "source": [
    "An object of type `MarkovChain` allows to calculate all kinds of Markov chain measures as the following demonstrates."
   ]
  },
  {
   "cell_type": "code",
   "execution_count": 15,
   "id": "wQBB3mPCkkGQ",
   "metadata": {
    "colab": {
     "base_uri": "https://localhost:8080/"
    },
    "executionInfo": {
     "elapsed": 245,
     "status": "ok",
     "timestamp": 1710681122224,
     "user": {
      "displayName": "Joost",
      "userId": "07142214971843623590"
     },
     "user_tz": -60
    },
    "id": "wQBB3mPCkkGQ",
    "outputId": "6a0d5c3f-a8b9-49de-cd8f-baa8041f59ce"
   },
   "source": [
    "print(f'Ergodic project = \\n{MC.ergodic_projector}')\n",
    "print(f'Fundamenetal matrix = \\n{MC.fundamental_matrix}')\n",
    "print(f'Deviation matrix = \\n{MC.deviation_matrix}')\n",
    "print(f'Mean first passage times matrix = \\n{MC.mean_first_passage_matrix}')\n",
    "print(f'Variance matrix of first passage times = \\n{MC.variance_first_passage_matrix}')"
   ],
   "outputs": []
  }
 ],
 "metadata": {
  "colab": {
   "provenance": []
  },
  "kernelspec": {
   "display_name": "Python 3 (ipykernel)",
   "language": "python",
   "name": "python3"
  },
  "language_info": {
   "codemirror_mode": {
    "name": "ipython",
    "version": 3
   },
   "file_extension": ".py",
   "mimetype": "text/x-python",
   "name": "python",
   "nbconvert_exporter": "python",
   "pygments_lexer": "ipython3",
   "version": "3.10.10"
  }
 },
 "nbformat": 4,
 "nbformat_minor": 5
}
